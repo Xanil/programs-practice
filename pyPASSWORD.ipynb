{
  "nbformat": 4,
  "nbformat_minor": 0,
  "metadata": {
    "colab": {
      "provenance": [],
      "authorship_tag": "ABX9TyMkX7nkNQcPlKcj2iA9MSeR",
      "include_colab_link": true
    },
    "kernelspec": {
      "name": "python3",
      "display_name": "Python 3"
    },
    "language_info": {
      "name": "python"
    }
  },
  "cells": [
    {
      "cell_type": "markdown",
      "metadata": {
        "id": "view-in-github",
        "colab_type": "text"
      },
      "source": [
        "<a href=\"https://colab.research.google.com/github/Xanil/programs-practice/blob/main/pyPASSWORD.ipynb\" target=\"_parent\"><img src=\"https://colab.research.google.com/assets/colab-badge.svg\" alt=\"Open In Colab\"/></a>"
      ]
    },
    {
      "cell_type": "code",
      "execution_count": 1,
      "metadata": {
        "id": "cUW7NhHfqotr"
      },
      "outputs": [],
      "source": [
        "import random\n",
        "letters = ['a', 'b', 'c', 'd', 'e', 'f', 'g', 'h', 'i', 'j', 'k', 'l', 'm', 'n', 'o', 'p', 'q', 'r', 's', 't', 'u', 'v', 'w', 'x', 'y', 'z', 'A', 'B', 'C', 'D', 'E', 'F', 'G', 'H', 'I', 'J', 'K', 'L', 'M', 'N', 'O', 'P', 'Q', 'R', 'S', 'T', 'U', 'V', 'W', 'X', 'Y', 'Z']\n",
        "numbers = ['0', '1', '2', '3', '4', '5', '6', '7', '8', '9']\n",
        "symbols = ['!', '#', '$', '%', '&', '(', ')', '*', '+']"
      ]
    },
    {
      "cell_type": "code",
      "source": [
        "print(\"Welcome to the PyPassword Generator!\")\n",
        "nr_letters= int(input(\"How many letters would you like in your password?\\n\")) \n",
        "nr_symbols = int(input(f\"How many symbols would you like?\\n\"))\n",
        "nr_numbers = int(input(f\"How many numbers would you like?\\n\"))\n",
        "password=[]\n",
        "for i in range(nr_letters):\n",
        "    password+=random.choice(letters)\n",
        "    \n",
        "for i in range(nr_symbols):\n",
        "    password+=random.choice(numbers)\n",
        "    \n",
        "for i in range(nr_numbers):\n",
        "    password+=random.choice(numbers)\n",
        "    \n",
        "print(password)\n",
        "\n",
        "string =\"\"\n",
        "\n",
        "for i in password:\n",
        "    string+=i\n",
        "    \n",
        "print(string)\n",
        "    "
      ],
      "metadata": {
        "colab": {
          "base_uri": "https://localhost:8080/"
        },
        "id": "jj0vV9D4q6jr",
        "outputId": "4e293fe0-ffd0-4201-dcf8-5a58baffdb0a"
      },
      "execution_count": 2,
      "outputs": [
        {
          "output_type": "stream",
          "name": "stdout",
          "text": [
            "Welcome to the PyPassword Generator!\n",
            "How many letters would you like in your password?\n",
            "6\n",
            "How many symbols would you like?\n",
            "3\n",
            "How many numbers would you like?\n",
            "7\n",
            "['h', 'n', 'D', 'K', 'P', 'w', '4', '6', '9', '6', '3', '4', '3', '0', '5', '5']\n",
            "hnDKPw4696343055\n"
          ]
        }
      ]
    }
  ]
}