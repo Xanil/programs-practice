{
  "nbformat": 4,
  "nbformat_minor": 0,
  "metadata": {
    "colab": {
      "provenance": [],
      "authorship_tag": "ABX9TyM72o1nIQ/NF9F2nUwxrMQN",
      "include_colab_link": true
    },
    "kernelspec": {
      "name": "python3",
      "display_name": "Python 3"
    },
    "language_info": {
      "name": "python"
    }
  },
  "cells": [
    {
      "cell_type": "markdown",
      "metadata": {
        "id": "view-in-github",
        "colab_type": "text"
      },
      "source": [
        "<a href=\"https://colab.research.google.com/github/Xanil/programs-practice/blob/main/ROCK_PAPER_SCISSOR.ipynb\" target=\"_parent\"><img src=\"https://colab.research.google.com/assets/colab-badge.svg\" alt=\"Open In Colab\"/></a>"
      ]
    },
    {
      "cell_type": "code",
      "execution_count": 1,
      "metadata": {
        "colab": {
          "base_uri": "https://localhost:8080/"
        },
        "id": "38rlYujlR6x4",
        "outputId": "fc5366bb-9171-4904-8ca5-ae08d142e0c1"
      },
      "outputs": [
        {
          "output_type": "stream",
          "name": "stdout",
          "text": [
            "select rock(0),paper(1),scissor(2) 0\n",
            "user selected Rock \n",
            "    _______\n",
            "---'   ____)\n",
            "      (_____)\n",
            "      (_____)\n",
            "      (____)\n",
            "---.__(___)\n",
            " \n",
            "computer selected  Rock \n",
            "    _______\n",
            "---'   ____)\n",
            "      (_____)\n",
            "      (_____)\n",
            "      (____)\n",
            "---.__(___)\n",
            "\n",
            "Its a draw\n"
          ]
        }
      ],
      "source": [
        "import random\n",
        "rock='''\n",
        "    _______\n",
        "---'   ____)\n",
        "      (_____)\n",
        "      (_____)\n",
        "      (____)\n",
        "---.__(___)\n",
        "'''\n",
        "paper='''\n",
        "   _______\n",
        "---'   ____)____\n",
        "          ______)\n",
        "          _______)\n",
        "         _______)\n",
        "---.__________)\n",
        "'''\n",
        "scissor='''\n",
        "    _______\n",
        "---'   ____)____\n",
        "          ______)\n",
        "       __________)\n",
        "      (____)\n",
        "---.__(___)\n",
        "'''\n",
        "game=[rock,paper,scissor]\n",
        "show=[\"Rock\",\"Paper\",\"Scissor\"]\n",
        "user=int(input(\"select rock(0),paper(1),scissor(2) \"))\n",
        "computer=random.randint(0,2)\n",
        "print(f\"user selected {show[user]} {game[user]} \")\n",
        "print(f\"computer selected  {show[computer]} {game[computer]}\")\n",
        "\n",
        "if user==computer:\n",
        "    print(\"Its a draw\")\n",
        "elif user==0 and computer==1:\n",
        "    print(\"Computer won\")\n",
        "elif user==0 and computer==2:\n",
        "    print(\"User won\")\n",
        "elif user==1 and computer==0:\n",
        "    print(\"User won\")\n",
        "elif user==1 and computer==2:\n",
        "    print(\"Computer won\")\n",
        "elif user==2 and computer==0:\n",
        "    print(\"Computer won\")\n",
        "elif user==2 and computer==1:\n",
        "    print(\"User won\")\n"
      ]
    }
  ]
}